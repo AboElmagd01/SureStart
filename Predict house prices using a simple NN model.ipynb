{
  "nbformat": 4,
  "nbformat_minor": 0,
  "metadata": {
    "colab": {
      "name": "Untitled1.ipynb",
      "provenance": []
    },
    "kernelspec": {
      "name": "python3",
      "display_name": "Python 3"
    }
  },
  "cells": [
    {
      "cell_type": "code",
      "metadata": {
        "id": "uRss4ON_e2Xw"
      },
      "source": [
        "import pandas as pd\n",
        "df = pd.read_csv('/content/drive/MyDrive/housepricedata.csv')"
      ],
      "execution_count": 14,
      "outputs": []
    },
    {
      "cell_type": "code",
      "metadata": {
        "colab": {
          "base_uri": "https://localhost:8080/",
          "height": 424
        },
        "id": "M4v3zEiPfxO7",
        "outputId": "0d00b9f9-2d9a-4169-a742-98accfb8b0ea"
      },
      "source": [
        "df"
      ],
      "execution_count": 15,
      "outputs": [
        {
          "output_type": "execute_result",
          "data": {
            "text/html": [
              "<div>\n",
              "<style scoped>\n",
              "    .dataframe tbody tr th:only-of-type {\n",
              "        vertical-align: middle;\n",
              "    }\n",
              "\n",
              "    .dataframe tbody tr th {\n",
              "        vertical-align: top;\n",
              "    }\n",
              "\n",
              "    .dataframe thead th {\n",
              "        text-align: right;\n",
              "    }\n",
              "</style>\n",
              "<table border=\"1\" class=\"dataframe\">\n",
              "  <thead>\n",
              "    <tr style=\"text-align: right;\">\n",
              "      <th></th>\n",
              "      <th>LotArea</th>\n",
              "      <th>OverallQual</th>\n",
              "      <th>OverallCond</th>\n",
              "      <th>TotalBsmtSF</th>\n",
              "      <th>FullBath</th>\n",
              "      <th>HalfBath</th>\n",
              "      <th>BedroomAbvGr</th>\n",
              "      <th>TotRmsAbvGrd</th>\n",
              "      <th>Fireplaces</th>\n",
              "      <th>GarageArea</th>\n",
              "      <th>AboveMedianPrice</th>\n",
              "    </tr>\n",
              "  </thead>\n",
              "  <tbody>\n",
              "    <tr>\n",
              "      <th>0</th>\n",
              "      <td>8450</td>\n",
              "      <td>7</td>\n",
              "      <td>5</td>\n",
              "      <td>856</td>\n",
              "      <td>2</td>\n",
              "      <td>1</td>\n",
              "      <td>3</td>\n",
              "      <td>8</td>\n",
              "      <td>0</td>\n",
              "      <td>548</td>\n",
              "      <td>1</td>\n",
              "    </tr>\n",
              "    <tr>\n",
              "      <th>1</th>\n",
              "      <td>9600</td>\n",
              "      <td>6</td>\n",
              "      <td>8</td>\n",
              "      <td>1262</td>\n",
              "      <td>2</td>\n",
              "      <td>0</td>\n",
              "      <td>3</td>\n",
              "      <td>6</td>\n",
              "      <td>1</td>\n",
              "      <td>460</td>\n",
              "      <td>1</td>\n",
              "    </tr>\n",
              "    <tr>\n",
              "      <th>2</th>\n",
              "      <td>11250</td>\n",
              "      <td>7</td>\n",
              "      <td>5</td>\n",
              "      <td>920</td>\n",
              "      <td>2</td>\n",
              "      <td>1</td>\n",
              "      <td>3</td>\n",
              "      <td>6</td>\n",
              "      <td>1</td>\n",
              "      <td>608</td>\n",
              "      <td>1</td>\n",
              "    </tr>\n",
              "    <tr>\n",
              "      <th>3</th>\n",
              "      <td>9550</td>\n",
              "      <td>7</td>\n",
              "      <td>5</td>\n",
              "      <td>756</td>\n",
              "      <td>1</td>\n",
              "      <td>0</td>\n",
              "      <td>3</td>\n",
              "      <td>7</td>\n",
              "      <td>1</td>\n",
              "      <td>642</td>\n",
              "      <td>0</td>\n",
              "    </tr>\n",
              "    <tr>\n",
              "      <th>4</th>\n",
              "      <td>14260</td>\n",
              "      <td>8</td>\n",
              "      <td>5</td>\n",
              "      <td>1145</td>\n",
              "      <td>2</td>\n",
              "      <td>1</td>\n",
              "      <td>4</td>\n",
              "      <td>9</td>\n",
              "      <td>1</td>\n",
              "      <td>836</td>\n",
              "      <td>1</td>\n",
              "    </tr>\n",
              "    <tr>\n",
              "      <th>...</th>\n",
              "      <td>...</td>\n",
              "      <td>...</td>\n",
              "      <td>...</td>\n",
              "      <td>...</td>\n",
              "      <td>...</td>\n",
              "      <td>...</td>\n",
              "      <td>...</td>\n",
              "      <td>...</td>\n",
              "      <td>...</td>\n",
              "      <td>...</td>\n",
              "      <td>...</td>\n",
              "    </tr>\n",
              "    <tr>\n",
              "      <th>1455</th>\n",
              "      <td>7917</td>\n",
              "      <td>6</td>\n",
              "      <td>5</td>\n",
              "      <td>953</td>\n",
              "      <td>2</td>\n",
              "      <td>1</td>\n",
              "      <td>3</td>\n",
              "      <td>7</td>\n",
              "      <td>1</td>\n",
              "      <td>460</td>\n",
              "      <td>1</td>\n",
              "    </tr>\n",
              "    <tr>\n",
              "      <th>1456</th>\n",
              "      <td>13175</td>\n",
              "      <td>6</td>\n",
              "      <td>6</td>\n",
              "      <td>1542</td>\n",
              "      <td>2</td>\n",
              "      <td>0</td>\n",
              "      <td>3</td>\n",
              "      <td>7</td>\n",
              "      <td>2</td>\n",
              "      <td>500</td>\n",
              "      <td>1</td>\n",
              "    </tr>\n",
              "    <tr>\n",
              "      <th>1457</th>\n",
              "      <td>9042</td>\n",
              "      <td>7</td>\n",
              "      <td>9</td>\n",
              "      <td>1152</td>\n",
              "      <td>2</td>\n",
              "      <td>0</td>\n",
              "      <td>4</td>\n",
              "      <td>9</td>\n",
              "      <td>2</td>\n",
              "      <td>252</td>\n",
              "      <td>1</td>\n",
              "    </tr>\n",
              "    <tr>\n",
              "      <th>1458</th>\n",
              "      <td>9717</td>\n",
              "      <td>5</td>\n",
              "      <td>6</td>\n",
              "      <td>1078</td>\n",
              "      <td>1</td>\n",
              "      <td>0</td>\n",
              "      <td>2</td>\n",
              "      <td>5</td>\n",
              "      <td>0</td>\n",
              "      <td>240</td>\n",
              "      <td>0</td>\n",
              "    </tr>\n",
              "    <tr>\n",
              "      <th>1459</th>\n",
              "      <td>9937</td>\n",
              "      <td>5</td>\n",
              "      <td>6</td>\n",
              "      <td>1256</td>\n",
              "      <td>1</td>\n",
              "      <td>1</td>\n",
              "      <td>3</td>\n",
              "      <td>6</td>\n",
              "      <td>0</td>\n",
              "      <td>276</td>\n",
              "      <td>0</td>\n",
              "    </tr>\n",
              "  </tbody>\n",
              "</table>\n",
              "<p>1460 rows × 11 columns</p>\n",
              "</div>"
            ],
            "text/plain": [
              "      LotArea  OverallQual  ...  GarageArea  AboveMedianPrice\n",
              "0        8450            7  ...         548                 1\n",
              "1        9600            6  ...         460                 1\n",
              "2       11250            7  ...         608                 1\n",
              "3        9550            7  ...         642                 0\n",
              "4       14260            8  ...         836                 1\n",
              "...       ...          ...  ...         ...               ...\n",
              "1455     7917            6  ...         460                 1\n",
              "1456    13175            6  ...         500                 1\n",
              "1457     9042            7  ...         252                 1\n",
              "1458     9717            5  ...         240                 0\n",
              "1459     9937            5  ...         276                 0\n",
              "\n",
              "[1460 rows x 11 columns]"
            ]
          },
          "metadata": {
            "tags": []
          },
          "execution_count": 15
        }
      ]
    },
    {
      "cell_type": "code",
      "metadata": {
        "id": "0dWz_k3Cfx5J"
      },
      "source": [
        "dataset = df.values"
      ],
      "execution_count": 16,
      "outputs": []
    },
    {
      "cell_type": "code",
      "metadata": {
        "colab": {
          "base_uri": "https://localhost:8080/"
        },
        "id": "KxmJh87kf5pc",
        "outputId": "ff693383-b131-49c2-a353-d3aa8b9fabf4"
      },
      "source": [
        "dataset"
      ],
      "execution_count": 17,
      "outputs": [
        {
          "output_type": "execute_result",
          "data": {
            "text/plain": [
              "array([[ 8450,     7,     5, ...,     0,   548,     1],\n",
              "       [ 9600,     6,     8, ...,     1,   460,     1],\n",
              "       [11250,     7,     5, ...,     1,   608,     1],\n",
              "       ...,\n",
              "       [ 9042,     7,     9, ...,     2,   252,     1],\n",
              "       [ 9717,     5,     6, ...,     0,   240,     0],\n",
              "       [ 9937,     5,     6, ...,     0,   276,     0]])"
            ]
          },
          "metadata": {
            "tags": []
          },
          "execution_count": 17
        }
      ]
    },
    {
      "cell_type": "code",
      "metadata": {
        "colab": {
          "base_uri": "https://localhost:8080/"
        },
        "id": "icuIk0Usf6qL",
        "outputId": "3421d64c-23fd-46d8-8729-156fb4f9a63e"
      },
      "source": [
        "X = dataset[:,:10]\n",
        "y = dataset[:,10]\n",
        "X"
      ],
      "execution_count": 19,
      "outputs": [
        {
          "output_type": "execute_result",
          "data": {
            "text/plain": [
              "array([[ 8450,     7,     5, ...,     8,     0,   548],\n",
              "       [ 9600,     6,     8, ...,     6,     1,   460],\n",
              "       [11250,     7,     5, ...,     6,     1,   608],\n",
              "       ...,\n",
              "       [ 9042,     7,     9, ...,     9,     2,   252],\n",
              "       [ 9717,     5,     6, ...,     5,     0,   240],\n",
              "       [ 9937,     5,     6, ...,     6,     0,   276]])"
            ]
          },
          "metadata": {
            "tags": []
          },
          "execution_count": 19
        }
      ]
    },
    {
      "cell_type": "code",
      "metadata": {
        "colab": {
          "base_uri": "https://localhost:8080/"
        },
        "id": "lYUaT8-agNy7",
        "outputId": "5b70e670-4c9d-451f-bc79-b50bb1bb0321"
      },
      "source": [
        "from sklearn import preprocessing\n",
        "min_max_scaler = preprocessing.MinMaxScaler()\n",
        "X_scale = min_max_scaler.fit_transform(X)\n",
        "X_scale"
      ],
      "execution_count": 20,
      "outputs": [
        {
          "output_type": "execute_result",
          "data": {
            "text/plain": [
              "array([[0.0334198 , 0.66666667, 0.5       , ..., 0.5       , 0.        ,\n",
              "        0.3864598 ],\n",
              "       [0.03879502, 0.55555556, 0.875     , ..., 0.33333333, 0.33333333,\n",
              "        0.32440056],\n",
              "       [0.04650728, 0.66666667, 0.5       , ..., 0.33333333, 0.33333333,\n",
              "        0.42877292],\n",
              "       ...,\n",
              "       [0.03618687, 0.66666667, 1.        , ..., 0.58333333, 0.66666667,\n",
              "        0.17771509],\n",
              "       [0.03934189, 0.44444444, 0.625     , ..., 0.25      , 0.        ,\n",
              "        0.16925247],\n",
              "       [0.04037019, 0.44444444, 0.625     , ..., 0.33333333, 0.        ,\n",
              "        0.19464034]])"
            ]
          },
          "metadata": {
            "tags": []
          },
          "execution_count": 20
        }
      ]
    },
    {
      "cell_type": "code",
      "metadata": {
        "colab": {
          "base_uri": "https://localhost:8080/"
        },
        "id": "faleWO4Agf_7",
        "outputId": "9ef5648f-6952-4e06-e012-55b51c0c959b"
      },
      "source": [
        "from sklearn.model_selection import train_test_split\n",
        "X_train, X_val_and_test, Y_train, Y_val_and_test = train_test_split(X_scale, y, test_size=0.3)\n",
        "X_val, X_test, Y_val, Y_test = train_test_split(X_val_and_test, Y_val_and_test, test_size=0.5)\n",
        "print(X_train.shape, X_val.shape, X_test.shape, Y_train.shape, Y_val.shape, Y_test.shape)"
      ],
      "execution_count": 21,
      "outputs": [
        {
          "output_type": "stream",
          "text": [
            "(1022, 10) (219, 10) (219, 10) (1022,) (219,) (219,)\n"
          ],
          "name": "stdout"
        }
      ]
    },
    {
      "cell_type": "code",
      "metadata": {
        "colab": {
          "base_uri": "https://localhost:8080/"
        },
        "id": "qMgwDI5yh3Q7",
        "outputId": "5b7f5475-99b7-4b9c-8680-b90fa593073d"
      },
      "source": [
        "from keras.models import Sequential\n",
        "from keras.layers import Dense\n",
        "model = Sequential([\n",
        "    Dense(32, activation='relu', input_shape=(10,)),\n",
        "    Dense(32, activation='relu'),\n",
        "    Dense(1, activation='sigmoid'),\n",
        "])\n",
        "model.compile(optimizer='sgd',\n",
        "              loss='binary_crossentropy',\n",
        "              metrics=['accuracy'])\n",
        "hist = model.fit(X_train, Y_train,\n",
        "          batch_size=32, epochs=100,\n",
        "          validation_data=(X_val, Y_val))"
      ],
      "execution_count": 22,
      "outputs": [
        {
          "output_type": "stream",
          "text": [
            "Epoch 1/100\n",
            "32/32 [==============================] - 1s 12ms/step - loss: 0.7184 - accuracy: 0.5025 - val_loss: 0.7087 - val_accuracy: 0.4932\n",
            "Epoch 2/100\n",
            "32/32 [==============================] - 0s 2ms/step - loss: 0.7099 - accuracy: 0.4745 - val_loss: 0.6998 - val_accuracy: 0.4384\n",
            "Epoch 3/100\n",
            "32/32 [==============================] - 0s 2ms/step - loss: 0.6975 - accuracy: 0.4884 - val_loss: 0.6937 - val_accuracy: 0.5251\n",
            "Epoch 4/100\n",
            "32/32 [==============================] - 0s 2ms/step - loss: 0.6929 - accuracy: 0.5624 - val_loss: 0.6888 - val_accuracy: 0.5708\n",
            "Epoch 5/100\n",
            "32/32 [==============================] - 0s 6ms/step - loss: 0.6890 - accuracy: 0.6343 - val_loss: 0.6845 - val_accuracy: 0.6119\n",
            "Epoch 6/100\n",
            "32/32 [==============================] - 0s 2ms/step - loss: 0.6864 - accuracy: 0.6301 - val_loss: 0.6807 - val_accuracy: 0.6621\n",
            "Epoch 7/100\n",
            "32/32 [==============================] - 0s 3ms/step - loss: 0.6831 - accuracy: 0.6859 - val_loss: 0.6770 - val_accuracy: 0.6941\n",
            "Epoch 8/100\n",
            "32/32 [==============================] - 0s 2ms/step - loss: 0.6795 - accuracy: 0.6820 - val_loss: 0.6734 - val_accuracy: 0.7352\n",
            "Epoch 9/100\n",
            "32/32 [==============================] - 0s 2ms/step - loss: 0.6752 - accuracy: 0.7405 - val_loss: 0.6697 - val_accuracy: 0.7717\n",
            "Epoch 10/100\n",
            "32/32 [==============================] - 0s 2ms/step - loss: 0.6740 - accuracy: 0.7632 - val_loss: 0.6660 - val_accuracy: 0.7991\n",
            "Epoch 11/100\n",
            "32/32 [==============================] - 0s 2ms/step - loss: 0.6709 - accuracy: 0.7861 - val_loss: 0.6622 - val_accuracy: 0.8082\n",
            "Epoch 12/100\n",
            "32/32 [==============================] - 0s 2ms/step - loss: 0.6651 - accuracy: 0.7940 - val_loss: 0.6582 - val_accuracy: 0.8265\n",
            "Epoch 13/100\n",
            "32/32 [==============================] - 0s 2ms/step - loss: 0.6592 - accuracy: 0.7976 - val_loss: 0.6541 - val_accuracy: 0.8356\n",
            "Epoch 14/100\n",
            "32/32 [==============================] - 0s 2ms/step - loss: 0.6566 - accuracy: 0.8122 - val_loss: 0.6497 - val_accuracy: 0.8356\n",
            "Epoch 15/100\n",
            "32/32 [==============================] - 0s 2ms/step - loss: 0.6517 - accuracy: 0.8029 - val_loss: 0.6450 - val_accuracy: 0.8265\n",
            "Epoch 16/100\n",
            "32/32 [==============================] - 0s 2ms/step - loss: 0.6459 - accuracy: 0.8046 - val_loss: 0.6401 - val_accuracy: 0.8265\n",
            "Epoch 17/100\n",
            "32/32 [==============================] - 0s 2ms/step - loss: 0.6444 - accuracy: 0.7963 - val_loss: 0.6350 - val_accuracy: 0.8265\n",
            "Epoch 18/100\n",
            "32/32 [==============================] - 0s 2ms/step - loss: 0.6370 - accuracy: 0.7980 - val_loss: 0.6292 - val_accuracy: 0.8356\n",
            "Epoch 19/100\n",
            "32/32 [==============================] - 0s 2ms/step - loss: 0.6302 - accuracy: 0.8141 - val_loss: 0.6230 - val_accuracy: 0.8493\n",
            "Epoch 20/100\n",
            "32/32 [==============================] - 0s 3ms/step - loss: 0.6280 - accuracy: 0.7995 - val_loss: 0.6155 - val_accuracy: 0.8447\n",
            "Epoch 21/100\n",
            "32/32 [==============================] - 0s 2ms/step - loss: 0.6153 - accuracy: 0.8266 - val_loss: 0.6071 - val_accuracy: 0.8493\n",
            "Epoch 22/100\n",
            "32/32 [==============================] - 0s 2ms/step - loss: 0.6091 - accuracy: 0.8183 - val_loss: 0.5987 - val_accuracy: 0.8447\n",
            "Epoch 23/100\n",
            "32/32 [==============================] - 0s 2ms/step - loss: 0.6021 - accuracy: 0.8133 - val_loss: 0.5904 - val_accuracy: 0.8447\n",
            "Epoch 24/100\n",
            "32/32 [==============================] - 0s 2ms/step - loss: 0.5952 - accuracy: 0.8059 - val_loss: 0.5822 - val_accuracy: 0.8447\n",
            "Epoch 25/100\n",
            "32/32 [==============================] - 0s 2ms/step - loss: 0.5877 - accuracy: 0.8117 - val_loss: 0.5734 - val_accuracy: 0.8447\n",
            "Epoch 26/100\n",
            "32/32 [==============================] - 0s 2ms/step - loss: 0.5824 - accuracy: 0.8157 - val_loss: 0.5647 - val_accuracy: 0.8447\n",
            "Epoch 27/100\n",
            "32/32 [==============================] - 0s 2ms/step - loss: 0.5703 - accuracy: 0.8322 - val_loss: 0.5559 - val_accuracy: 0.8539\n",
            "Epoch 28/100\n",
            "32/32 [==============================] - 0s 2ms/step - loss: 0.5660 - accuracy: 0.8244 - val_loss: 0.5465 - val_accuracy: 0.8539\n",
            "Epoch 29/100\n",
            "32/32 [==============================] - 0s 2ms/step - loss: 0.5527 - accuracy: 0.8351 - val_loss: 0.5372 - val_accuracy: 0.8676\n",
            "Epoch 30/100\n",
            "32/32 [==============================] - 0s 3ms/step - loss: 0.5403 - accuracy: 0.8378 - val_loss: 0.5272 - val_accuracy: 0.8630\n",
            "Epoch 31/100\n",
            "32/32 [==============================] - 0s 3ms/step - loss: 0.5278 - accuracy: 0.8378 - val_loss: 0.5172 - val_accuracy: 0.8630\n",
            "Epoch 32/100\n",
            "32/32 [==============================] - 0s 3ms/step - loss: 0.5134 - accuracy: 0.8479 - val_loss: 0.5072 - val_accuracy: 0.8721\n",
            "Epoch 33/100\n",
            "32/32 [==============================] - 0s 2ms/step - loss: 0.5192 - accuracy: 0.8183 - val_loss: 0.4971 - val_accuracy: 0.8721\n",
            "Epoch 34/100\n",
            "32/32 [==============================] - 0s 3ms/step - loss: 0.5086 - accuracy: 0.8177 - val_loss: 0.4867 - val_accuracy: 0.8721\n",
            "Epoch 35/100\n",
            "32/32 [==============================] - 0s 2ms/step - loss: 0.4955 - accuracy: 0.8394 - val_loss: 0.4766 - val_accuracy: 0.8767\n",
            "Epoch 36/100\n",
            "32/32 [==============================] - 0s 2ms/step - loss: 0.4971 - accuracy: 0.8107 - val_loss: 0.4663 - val_accuracy: 0.8767\n",
            "Epoch 37/100\n",
            "32/32 [==============================] - 0s 2ms/step - loss: 0.4894 - accuracy: 0.8284 - val_loss: 0.4565 - val_accuracy: 0.8767\n",
            "Epoch 38/100\n",
            "32/32 [==============================] - 0s 3ms/step - loss: 0.4636 - accuracy: 0.8563 - val_loss: 0.4464 - val_accuracy: 0.8767\n",
            "Epoch 39/100\n",
            "32/32 [==============================] - 0s 3ms/step - loss: 0.4620 - accuracy: 0.8465 - val_loss: 0.4369 - val_accuracy: 0.8767\n",
            "Epoch 40/100\n",
            "32/32 [==============================] - 0s 2ms/step - loss: 0.4483 - accuracy: 0.8575 - val_loss: 0.4278 - val_accuracy: 0.8767\n",
            "Epoch 41/100\n",
            "32/32 [==============================] - 0s 2ms/step - loss: 0.4511 - accuracy: 0.8442 - val_loss: 0.4177 - val_accuracy: 0.8767\n",
            "Epoch 42/100\n",
            "32/32 [==============================] - 0s 2ms/step - loss: 0.4235 - accuracy: 0.8693 - val_loss: 0.4088 - val_accuracy: 0.8767\n",
            "Epoch 43/100\n",
            "32/32 [==============================] - 0s 3ms/step - loss: 0.4336 - accuracy: 0.8619 - val_loss: 0.4011 - val_accuracy: 0.8813\n",
            "Epoch 44/100\n",
            "32/32 [==============================] - 0s 3ms/step - loss: 0.4303 - accuracy: 0.8436 - val_loss: 0.3922 - val_accuracy: 0.8813\n",
            "Epoch 45/100\n",
            "32/32 [==============================] - 0s 2ms/step - loss: 0.4112 - accuracy: 0.8543 - val_loss: 0.3849 - val_accuracy: 0.8813\n",
            "Epoch 46/100\n",
            "32/32 [==============================] - 0s 2ms/step - loss: 0.4183 - accuracy: 0.8443 - val_loss: 0.3770 - val_accuracy: 0.8813\n",
            "Epoch 47/100\n",
            "32/32 [==============================] - 0s 2ms/step - loss: 0.4119 - accuracy: 0.8530 - val_loss: 0.3695 - val_accuracy: 0.8813\n",
            "Epoch 48/100\n",
            "32/32 [==============================] - 0s 2ms/step - loss: 0.4053 - accuracy: 0.8672 - val_loss: 0.3627 - val_accuracy: 0.8813\n",
            "Epoch 49/100\n",
            "32/32 [==============================] - 0s 3ms/step - loss: 0.3849 - accuracy: 0.8700 - val_loss: 0.3562 - val_accuracy: 0.8813\n",
            "Epoch 50/100\n",
            "32/32 [==============================] - 0s 2ms/step - loss: 0.3716 - accuracy: 0.8797 - val_loss: 0.3505 - val_accuracy: 0.8858\n",
            "Epoch 51/100\n",
            "32/32 [==============================] - 0s 3ms/step - loss: 0.3660 - accuracy: 0.8610 - val_loss: 0.3444 - val_accuracy: 0.8858\n",
            "Epoch 52/100\n",
            "32/32 [==============================] - 0s 3ms/step - loss: 0.3667 - accuracy: 0.8708 - val_loss: 0.3396 - val_accuracy: 0.8858\n",
            "Epoch 53/100\n",
            "32/32 [==============================] - 0s 2ms/step - loss: 0.3676 - accuracy: 0.8632 - val_loss: 0.3340 - val_accuracy: 0.8904\n",
            "Epoch 54/100\n",
            "32/32 [==============================] - 0s 2ms/step - loss: 0.3562 - accuracy: 0.8703 - val_loss: 0.3291 - val_accuracy: 0.8813\n",
            "Epoch 55/100\n",
            "32/32 [==============================] - 0s 2ms/step - loss: 0.3426 - accuracy: 0.8814 - val_loss: 0.3244 - val_accuracy: 0.8767\n",
            "Epoch 56/100\n",
            "32/32 [==============================] - 0s 7ms/step - loss: 0.3471 - accuracy: 0.8758 - val_loss: 0.3206 - val_accuracy: 0.8950\n",
            "Epoch 57/100\n",
            "32/32 [==============================] - 0s 2ms/step - loss: 0.3457 - accuracy: 0.8701 - val_loss: 0.3161 - val_accuracy: 0.8767\n",
            "Epoch 58/100\n",
            "32/32 [==============================] - 0s 2ms/step - loss: 0.3380 - accuracy: 0.8685 - val_loss: 0.3124 - val_accuracy: 0.8813\n",
            "Epoch 59/100\n",
            "32/32 [==============================] - 0s 2ms/step - loss: 0.3424 - accuracy: 0.8689 - val_loss: 0.3089 - val_accuracy: 0.8950\n",
            "Epoch 60/100\n",
            "32/32 [==============================] - 0s 2ms/step - loss: 0.3470 - accuracy: 0.8733 - val_loss: 0.3053 - val_accuracy: 0.8813\n",
            "Epoch 61/100\n",
            "32/32 [==============================] - 0s 2ms/step - loss: 0.3487 - accuracy: 0.8580 - val_loss: 0.3020 - val_accuracy: 0.8813\n",
            "Epoch 62/100\n",
            "32/32 [==============================] - 0s 2ms/step - loss: 0.3329 - accuracy: 0.8803 - val_loss: 0.2999 - val_accuracy: 0.8904\n",
            "Epoch 63/100\n",
            "32/32 [==============================] - 0s 2ms/step - loss: 0.3439 - accuracy: 0.8698 - val_loss: 0.2970 - val_accuracy: 0.8950\n",
            "Epoch 64/100\n",
            "32/32 [==============================] - 0s 2ms/step - loss: 0.3153 - accuracy: 0.8879 - val_loss: 0.2947 - val_accuracy: 0.8950\n",
            "Epoch 65/100\n",
            "32/32 [==============================] - 0s 2ms/step - loss: 0.3240 - accuracy: 0.8733 - val_loss: 0.2909 - val_accuracy: 0.8813\n",
            "Epoch 66/100\n",
            "32/32 [==============================] - 0s 3ms/step - loss: 0.2866 - accuracy: 0.8987 - val_loss: 0.2888 - val_accuracy: 0.8950\n",
            "Epoch 67/100\n",
            "32/32 [==============================] - 0s 3ms/step - loss: 0.3443 - accuracy: 0.8554 - val_loss: 0.2860 - val_accuracy: 0.8813\n",
            "Epoch 68/100\n",
            "32/32 [==============================] - 0s 3ms/step - loss: 0.3175 - accuracy: 0.8762 - val_loss: 0.2840 - val_accuracy: 0.8858\n",
            "Epoch 69/100\n",
            "32/32 [==============================] - 0s 3ms/step - loss: 0.3195 - accuracy: 0.8712 - val_loss: 0.2818 - val_accuracy: 0.8950\n",
            "Epoch 70/100\n",
            "32/32 [==============================] - 0s 2ms/step - loss: 0.3160 - accuracy: 0.8850 - val_loss: 0.2801 - val_accuracy: 0.8950\n",
            "Epoch 71/100\n",
            "32/32 [==============================] - 0s 2ms/step - loss: 0.3117 - accuracy: 0.8725 - val_loss: 0.2783 - val_accuracy: 0.8950\n",
            "Epoch 72/100\n",
            "32/32 [==============================] - 0s 2ms/step - loss: 0.3334 - accuracy: 0.8585 - val_loss: 0.2759 - val_accuracy: 0.8858\n",
            "Epoch 73/100\n",
            "32/32 [==============================] - 0s 2ms/step - loss: 0.3273 - accuracy: 0.8673 - val_loss: 0.2742 - val_accuracy: 0.8904\n",
            "Epoch 74/100\n",
            "32/32 [==============================] - 0s 2ms/step - loss: 0.3046 - accuracy: 0.8751 - val_loss: 0.2727 - val_accuracy: 0.8950\n",
            "Epoch 75/100\n",
            "32/32 [==============================] - 0s 2ms/step - loss: 0.3308 - accuracy: 0.8685 - val_loss: 0.2716 - val_accuracy: 0.8995\n",
            "Epoch 76/100\n",
            "32/32 [==============================] - 0s 2ms/step - loss: 0.3007 - accuracy: 0.8967 - val_loss: 0.2705 - val_accuracy: 0.8995\n",
            "Epoch 77/100\n",
            "32/32 [==============================] - 0s 3ms/step - loss: 0.3167 - accuracy: 0.8667 - val_loss: 0.2682 - val_accuracy: 0.8995\n",
            "Epoch 78/100\n",
            "32/32 [==============================] - 0s 2ms/step - loss: 0.3221 - accuracy: 0.8634 - val_loss: 0.2667 - val_accuracy: 0.8950\n",
            "Epoch 79/100\n",
            "32/32 [==============================] - 0s 3ms/step - loss: 0.3209 - accuracy: 0.8719 - val_loss: 0.2655 - val_accuracy: 0.8995\n",
            "Epoch 80/100\n",
            "32/32 [==============================] - 0s 3ms/step - loss: 0.3076 - accuracy: 0.8714 - val_loss: 0.2647 - val_accuracy: 0.8950\n",
            "Epoch 81/100\n",
            "32/32 [==============================] - 0s 3ms/step - loss: 0.2937 - accuracy: 0.8820 - val_loss: 0.2627 - val_accuracy: 0.8995\n",
            "Epoch 82/100\n",
            "32/32 [==============================] - 0s 2ms/step - loss: 0.2979 - accuracy: 0.8778 - val_loss: 0.2625 - val_accuracy: 0.8995\n",
            "Epoch 83/100\n",
            "32/32 [==============================] - 0s 3ms/step - loss: 0.2936 - accuracy: 0.8789 - val_loss: 0.2623 - val_accuracy: 0.8995\n",
            "Epoch 84/100\n",
            "32/32 [==============================] - 0s 3ms/step - loss: 0.3300 - accuracy: 0.8675 - val_loss: 0.2598 - val_accuracy: 0.9087\n",
            "Epoch 85/100\n",
            "32/32 [==============================] - 0s 2ms/step - loss: 0.2932 - accuracy: 0.8739 - val_loss: 0.2582 - val_accuracy: 0.8995\n",
            "Epoch 86/100\n",
            "32/32 [==============================] - 0s 2ms/step - loss: 0.2929 - accuracy: 0.8793 - val_loss: 0.2572 - val_accuracy: 0.9041\n",
            "Epoch 87/100\n",
            "32/32 [==============================] - 0s 2ms/step - loss: 0.2796 - accuracy: 0.8986 - val_loss: 0.2564 - val_accuracy: 0.9087\n",
            "Epoch 88/100\n",
            "32/32 [==============================] - 0s 3ms/step - loss: 0.3142 - accuracy: 0.8715 - val_loss: 0.2553 - val_accuracy: 0.9041\n",
            "Epoch 89/100\n",
            "32/32 [==============================] - 0s 2ms/step - loss: 0.3246 - accuracy: 0.8688 - val_loss: 0.2542 - val_accuracy: 0.9041\n",
            "Epoch 90/100\n",
            "32/32 [==============================] - 0s 2ms/step - loss: 0.2884 - accuracy: 0.8811 - val_loss: 0.2539 - val_accuracy: 0.9041\n",
            "Epoch 91/100\n",
            "32/32 [==============================] - 0s 3ms/step - loss: 0.3245 - accuracy: 0.8598 - val_loss: 0.2538 - val_accuracy: 0.9041\n",
            "Epoch 92/100\n",
            "32/32 [==============================] - 0s 2ms/step - loss: 0.2934 - accuracy: 0.8896 - val_loss: 0.2516 - val_accuracy: 0.9041\n",
            "Epoch 93/100\n",
            "32/32 [==============================] - 0s 3ms/step - loss: 0.3226 - accuracy: 0.8731 - val_loss: 0.2509 - val_accuracy: 0.8995\n",
            "Epoch 94/100\n",
            "32/32 [==============================] - 0s 2ms/step - loss: 0.2959 - accuracy: 0.8755 - val_loss: 0.2502 - val_accuracy: 0.9087\n",
            "Epoch 95/100\n",
            "32/32 [==============================] - 0s 2ms/step - loss: 0.3105 - accuracy: 0.8750 - val_loss: 0.2498 - val_accuracy: 0.9041\n",
            "Epoch 96/100\n",
            "32/32 [==============================] - 0s 3ms/step - loss: 0.2845 - accuracy: 0.8891 - val_loss: 0.2500 - val_accuracy: 0.9041\n",
            "Epoch 97/100\n",
            "32/32 [==============================] - 0s 3ms/step - loss: 0.3097 - accuracy: 0.8747 - val_loss: 0.2494 - val_accuracy: 0.9041\n",
            "Epoch 98/100\n",
            "32/32 [==============================] - 0s 2ms/step - loss: 0.3410 - accuracy: 0.8604 - val_loss: 0.2470 - val_accuracy: 0.9041\n",
            "Epoch 99/100\n",
            "32/32 [==============================] - 0s 3ms/step - loss: 0.2844 - accuracy: 0.8909 - val_loss: 0.2468 - val_accuracy: 0.9041\n",
            "Epoch 100/100\n",
            "32/32 [==============================] - 0s 3ms/step - loss: 0.3091 - accuracy: 0.8678 - val_loss: 0.2458 - val_accuracy: 0.9087\n"
          ],
          "name": "stdout"
        }
      ]
    },
    {
      "cell_type": "code",
      "metadata": {
        "colab": {
          "base_uri": "https://localhost:8080/"
        },
        "id": "PdjWZk_RiZkw",
        "outputId": "0dd91a32-a5f8-44b0-e199-55d06f0a387c"
      },
      "source": [
        "model.evaluate(X_test, Y_test)[1]"
      ],
      "execution_count": 23,
      "outputs": [
        {
          "output_type": "stream",
          "text": [
            "7/7 [==============================] - 0s 2ms/step - loss: 0.2392 - accuracy: 0.9224\n"
          ],
          "name": "stdout"
        },
        {
          "output_type": "execute_result",
          "data": {
            "text/plain": [
              "0.922374427318573"
            ]
          },
          "metadata": {
            "tags": []
          },
          "execution_count": 23
        }
      ]
    },
    {
      "cell_type": "code",
      "metadata": {
        "colab": {
          "base_uri": "https://localhost:8080/",
          "height": 295
        },
        "id": "afzTHJurieqJ",
        "outputId": "ff1d11af-13c6-401f-c5fa-9ab0a1daa9ca"
      },
      "source": [
        "import matplotlib.pyplot as plt\n",
        "plt.plot(hist.history['loss'])\n",
        "plt.plot(hist.history['val_loss'])\n",
        "plt.title('Model loss')\n",
        "plt.ylabel('Loss')\n",
        "plt.xlabel('Epoch')\n",
        "plt.legend(['Train', 'Val'], loc='upper right')\n",
        "plt.show()"
      ],
      "execution_count": 24,
      "outputs": [
        {
          "output_type": "display_data",
          "data": {
            "image/png": "[encoded data removed]",
            "text/plain": [
              "<Figure size 432x288 with 1 Axes>"
            ]
          },
          "metadata": {
            "tags": [],
            "needs_background": "light"
          }
        }
      ]
    },
    {
      "cell_type": "code",
      "metadata": {
        "colab": {
          "base_uri": "https://localhost:8080/",
          "height": 295
        },
        "id": "VJrPJuUSioHI",
        "outputId": "81b01d70-6aff-4576-df0f-fcbeeb75bba5"
      },
      "source": [
        "plt.plot(hist.history['accuracy'])\n",
        "plt.plot(hist.history['val_accuracy'])\n",
        "plt.title('Model accuracy')\n",
        "plt.ylabel('Accuracy')\n",
        "plt.xlabel('Epoch')\n",
        "plt.legend(['Train', 'Val'], loc='lower right')\n",
        "plt.show()"
      ],
      "execution_count": 26,
      "outputs": [
        {
          "output_type": "display_data",
          "data": {
            "image/png": "[encoded data removed]",
            "text/plain": [
              "<Figure size 432x288 with 1 Axes>"
            ]
          },
          "metadata": {
            "tags": [],
            "needs_background": "light"
          }
        }
      ]
    },
    {
      "cell_type": "code",
      "metadata": {
        "colab": {
          "base_uri": "https://localhost:8080/"
        },
        "id": "S7T-DXtsitHm",
        "outputId": "f660fd17-5dd6-424d-e6e5-f1ec25e81bb5"
      },
      "source": [
        "model_2 = Sequential([\n",
        "    Dense(1000, activation='relu', input_shape=(10,)),\n",
        "    Dense(1000, activation='relu'),\n",
        "    Dense(1000, activation='relu'),\n",
        "    Dense(1000, activation='relu'),\n",
        "    Dense(1, activation='sigmoid'),\n",
        "])\n",
        "model_2.compile(optimizer='adam',\n",
        "              loss='binary_crossentropy',\n",
        "              metrics=['accuracy'])\n",
        "hist_2 = model_2.fit(X_train, Y_train,\n",
        "          batch_size=32, epochs=100,\n",
        "          validation_data=(X_val, Y_val))"
      ],
      "execution_count": 27,
      "outputs": [
        {
          "output_type": "stream",
          "text": [
            "Epoch 1/100\n",
            "32/32 [==============================] - 2s 42ms/step - loss: 0.5703 - accuracy: 0.6715 - val_loss: 0.3293 - val_accuracy: 0.8584\n",
            "Epoch 2/100\n",
            "32/32 [==============================] - 1s 37ms/step - loss: 0.3689 - accuracy: 0.8468 - val_loss: 0.3257 - val_accuracy: 0.8584\n",
            "Epoch 3/100\n",
            "32/32 [==============================] - 1s 37ms/step - loss: 0.3374 - accuracy: 0.8666 - val_loss: 0.2734 - val_accuracy: 0.8767\n",
            "Epoch 4/100\n",
            "32/32 [==============================] - 1s 37ms/step - loss: 0.3205 - accuracy: 0.8738 - val_loss: 0.2573 - val_accuracy: 0.8950\n",
            "Epoch 5/100\n",
            "32/32 [==============================] - 1s 37ms/step - loss: 0.2911 - accuracy: 0.8841 - val_loss: 0.2589 - val_accuracy: 0.8813\n",
            "Epoch 6/100\n",
            "32/32 [==============================] - 1s 36ms/step - loss: 0.2982 - accuracy: 0.8809 - val_loss: 0.2507 - val_accuracy: 0.9224\n",
            "Epoch 7/100\n",
            "32/32 [==============================] - 1s 36ms/step - loss: 0.3181 - accuracy: 0.8608 - val_loss: 0.2446 - val_accuracy: 0.8904\n",
            "Epoch 8/100\n",
            "32/32 [==============================] - 1s 36ms/step - loss: 0.2923 - accuracy: 0.8816 - val_loss: 0.2327 - val_accuracy: 0.9132\n",
            "Epoch 9/100\n",
            "32/32 [==============================] - 1s 36ms/step - loss: 0.2448 - accuracy: 0.8912 - val_loss: 0.2786 - val_accuracy: 0.8676\n",
            "Epoch 10/100\n",
            "32/32 [==============================] - 1s 36ms/step - loss: 0.2711 - accuracy: 0.9012 - val_loss: 0.2662 - val_accuracy: 0.8813\n",
            "Epoch 11/100\n",
            "32/32 [==============================] - 1s 37ms/step - loss: 0.2473 - accuracy: 0.8870 - val_loss: 0.2469 - val_accuracy: 0.9178\n",
            "Epoch 12/100\n",
            "32/32 [==============================] - 1s 37ms/step - loss: 0.2330 - accuracy: 0.8970 - val_loss: 0.2309 - val_accuracy: 0.9269\n",
            "Epoch 13/100\n",
            "32/32 [==============================] - 1s 37ms/step - loss: 0.2326 - accuracy: 0.9070 - val_loss: 0.2494 - val_accuracy: 0.9132\n",
            "Epoch 14/100\n",
            "32/32 [==============================] - 1s 37ms/step - loss: 0.2239 - accuracy: 0.8939 - val_loss: 0.2623 - val_accuracy: 0.9178\n",
            "Epoch 15/100\n",
            "32/32 [==============================] - 1s 36ms/step - loss: 0.2307 - accuracy: 0.8952 - val_loss: 0.2461 - val_accuracy: 0.9178\n",
            "Epoch 16/100\n",
            "32/32 [==============================] - 1s 36ms/step - loss: 0.2214 - accuracy: 0.9100 - val_loss: 0.2215 - val_accuracy: 0.9178\n",
            "Epoch 17/100\n",
            "32/32 [==============================] - 1s 37ms/step - loss: 0.2535 - accuracy: 0.8864 - val_loss: 0.2417 - val_accuracy: 0.8904\n",
            "Epoch 18/100\n",
            "32/32 [==============================] - 1s 37ms/step - loss: 0.2340 - accuracy: 0.8982 - val_loss: 0.2457 - val_accuracy: 0.9087\n",
            "Epoch 19/100\n",
            "32/32 [==============================] - 1s 37ms/step - loss: 0.2123 - accuracy: 0.9114 - val_loss: 0.2213 - val_accuracy: 0.8858\n",
            "Epoch 20/100\n",
            "32/32 [==============================] - 1s 38ms/step - loss: 0.2302 - accuracy: 0.8911 - val_loss: 0.2408 - val_accuracy: 0.9041\n",
            "Epoch 21/100\n",
            "32/32 [==============================] - 1s 36ms/step - loss: 0.2414 - accuracy: 0.9046 - val_loss: 0.3373 - val_accuracy: 0.9087\n",
            "Epoch 22/100\n",
            "32/32 [==============================] - 1s 36ms/step - loss: 0.2255 - accuracy: 0.9034 - val_loss: 0.2763 - val_accuracy: 0.9087\n",
            "Epoch 23/100\n",
            "32/32 [==============================] - 1s 36ms/step - loss: 0.2151 - accuracy: 0.9005 - val_loss: 0.2382 - val_accuracy: 0.9178\n",
            "Epoch 24/100\n",
            "32/32 [==============================] - 1s 36ms/step - loss: 0.1950 - accuracy: 0.9165 - val_loss: 0.2437 - val_accuracy: 0.9087\n",
            "Epoch 25/100\n",
            "32/32 [==============================] - 1s 36ms/step - loss: 0.1883 - accuracy: 0.9116 - val_loss: 0.2662 - val_accuracy: 0.9087\n",
            "Epoch 26/100\n",
            "32/32 [==============================] - 1s 36ms/step - loss: 0.1742 - accuracy: 0.9237 - val_loss: 0.2700 - val_accuracy: 0.8767\n",
            "Epoch 27/100\n",
            "32/32 [==============================] - 1s 36ms/step - loss: 0.2124 - accuracy: 0.9129 - val_loss: 0.2439 - val_accuracy: 0.9132\n",
            "Epoch 28/100\n",
            "32/32 [==============================] - 1s 36ms/step - loss: 0.1999 - accuracy: 0.9175 - val_loss: 0.2334 - val_accuracy: 0.9132\n",
            "Epoch 29/100\n",
            "32/32 [==============================] - 1s 37ms/step - loss: 0.2547 - accuracy: 0.8819 - val_loss: 0.2734 - val_accuracy: 0.8995\n",
            "Epoch 30/100\n",
            "32/32 [==============================] - 1s 36ms/step - loss: 0.1767 - accuracy: 0.9268 - val_loss: 0.2532 - val_accuracy: 0.9178\n",
            "Epoch 31/100\n",
            "32/32 [==============================] - 1s 36ms/step - loss: 0.2097 - accuracy: 0.8980 - val_loss: 0.3009 - val_accuracy: 0.9178\n",
            "Epoch 32/100\n",
            "32/32 [==============================] - 1s 36ms/step - loss: 0.1812 - accuracy: 0.9228 - val_loss: 0.2604 - val_accuracy: 0.8950\n",
            "Epoch 33/100\n",
            "32/32 [==============================] - 1s 35ms/step - loss: 0.2009 - accuracy: 0.9100 - val_loss: 0.3162 - val_accuracy: 0.8904\n",
            "Epoch 34/100\n",
            "32/32 [==============================] - 1s 36ms/step - loss: 0.1528 - accuracy: 0.9487 - val_loss: 0.3082 - val_accuracy: 0.8995\n",
            "Epoch 35/100\n",
            "32/32 [==============================] - 1s 36ms/step - loss: 0.2060 - accuracy: 0.9126 - val_loss: 0.3561 - val_accuracy: 0.8813\n",
            "Epoch 36/100\n",
            "32/32 [==============================] - 1s 36ms/step - loss: 0.2148 - accuracy: 0.9044 - val_loss: 0.2497 - val_accuracy: 0.9041\n",
            "Epoch 37/100\n",
            "32/32 [==============================] - 1s 36ms/step - loss: 0.1888 - accuracy: 0.9209 - val_loss: 0.2917 - val_accuracy: 0.8950\n",
            "Epoch 38/100\n",
            "32/32 [==============================] - 1s 36ms/step - loss: 0.1819 - accuracy: 0.9168 - val_loss: 0.2607 - val_accuracy: 0.8904\n",
            "Epoch 39/100\n",
            "32/32 [==============================] - 1s 36ms/step - loss: 0.1764 - accuracy: 0.9206 - val_loss: 0.3978 - val_accuracy: 0.8950\n",
            "Epoch 40/100\n",
            "32/32 [==============================] - 1s 36ms/step - loss: 0.1957 - accuracy: 0.9206 - val_loss: 0.3817 - val_accuracy: 0.9041\n",
            "Epoch 41/100\n",
            "32/32 [==============================] - 1s 36ms/step - loss: 0.1713 - accuracy: 0.9282 - val_loss: 0.3141 - val_accuracy: 0.8995\n",
            "Epoch 42/100\n",
            "32/32 [==============================] - 1s 36ms/step - loss: 0.1726 - accuracy: 0.9278 - val_loss: 0.2261 - val_accuracy: 0.8858\n",
            "Epoch 43/100\n",
            "32/32 [==============================] - 1s 37ms/step - loss: 0.1970 - accuracy: 0.9143 - val_loss: 0.3265 - val_accuracy: 0.8950\n",
            "Epoch 44/100\n",
            "32/32 [==============================] - 1s 37ms/step - loss: 0.1965 - accuracy: 0.9181 - val_loss: 0.2754 - val_accuracy: 0.8995\n",
            "Epoch 45/100\n",
            "32/32 [==============================] - 1s 36ms/step - loss: 0.1814 - accuracy: 0.9212 - val_loss: 0.3438 - val_accuracy: 0.8950\n",
            "Epoch 46/100\n",
            "32/32 [==============================] - 1s 36ms/step - loss: 0.1765 - accuracy: 0.9268 - val_loss: 0.2818 - val_accuracy: 0.9041\n",
            "Epoch 47/100\n",
            "32/32 [==============================] - 1s 37ms/step - loss: 0.1841 - accuracy: 0.9312 - val_loss: 0.3640 - val_accuracy: 0.8904\n",
            "Epoch 48/100\n",
            "32/32 [==============================] - 1s 40ms/step - loss: 0.1995 - accuracy: 0.9042 - val_loss: 0.3140 - val_accuracy: 0.8995\n",
            "Epoch 49/100\n",
            "32/32 [==============================] - 1s 36ms/step - loss: 0.1770 - accuracy: 0.9236 - val_loss: 0.3201 - val_accuracy: 0.8858\n",
            "Epoch 50/100\n",
            "32/32 [==============================] - 1s 37ms/step - loss: 0.1586 - accuracy: 0.9366 - val_loss: 0.3002 - val_accuracy: 0.9087\n",
            "Epoch 51/100\n",
            "32/32 [==============================] - 1s 37ms/step - loss: 0.2126 - accuracy: 0.9169 - val_loss: 0.2617 - val_accuracy: 0.9041\n",
            "Epoch 52/100\n",
            "32/32 [==============================] - 1s 37ms/step - loss: 0.1731 - accuracy: 0.9271 - val_loss: 0.4180 - val_accuracy: 0.9132\n",
            "Epoch 53/100\n",
            "32/32 [==============================] - 1s 37ms/step - loss: 0.1747 - accuracy: 0.9259 - val_loss: 0.4230 - val_accuracy: 0.9087\n",
            "Epoch 54/100\n",
            "32/32 [==============================] - 1s 38ms/step - loss: 0.2049 - accuracy: 0.9146 - val_loss: 0.2935 - val_accuracy: 0.9041\n",
            "Epoch 55/100\n",
            "32/32 [==============================] - 1s 38ms/step - loss: 0.1813 - accuracy: 0.9342 - val_loss: 0.3596 - val_accuracy: 0.8950\n",
            "Epoch 56/100\n",
            "32/32 [==============================] - 1s 38ms/step - loss: 0.1696 - accuracy: 0.9272 - val_loss: 0.3704 - val_accuracy: 0.9087\n",
            "Epoch 57/100\n",
            "32/32 [==============================] - 1s 37ms/step - loss: 0.1619 - accuracy: 0.9275 - val_loss: 0.5265 - val_accuracy: 0.8995\n",
            "Epoch 58/100\n",
            "32/32 [==============================] - 1s 38ms/step - loss: 0.1633 - accuracy: 0.9371 - val_loss: 0.4240 - val_accuracy: 0.8904\n",
            "Epoch 59/100\n",
            "32/32 [==============================] - 1s 38ms/step - loss: 0.1634 - accuracy: 0.9345 - val_loss: 0.3890 - val_accuracy: 0.8904\n",
            "Epoch 60/100\n",
            "32/32 [==============================] - 1s 37ms/step - loss: 0.1503 - accuracy: 0.9374 - val_loss: 0.3270 - val_accuracy: 0.8904\n",
            "Epoch 61/100\n",
            "32/32 [==============================] - 1s 37ms/step - loss: 0.1570 - accuracy: 0.9314 - val_loss: 0.3793 - val_accuracy: 0.8813\n",
            "Epoch 62/100\n",
            "32/32 [==============================] - 1s 38ms/step - loss: 0.1611 - accuracy: 0.9311 - val_loss: 0.3363 - val_accuracy: 0.9041\n",
            "Epoch 63/100\n",
            "32/32 [==============================] - 1s 36ms/step - loss: 0.1679 - accuracy: 0.9201 - val_loss: 0.3255 - val_accuracy: 0.8813\n",
            "Epoch 64/100\n",
            "32/32 [==============================] - 1s 38ms/step - loss: 0.1559 - accuracy: 0.9331 - val_loss: 0.4205 - val_accuracy: 0.8904\n",
            "Epoch 65/100\n",
            "32/32 [==============================] - 1s 37ms/step - loss: 0.1472 - accuracy: 0.9380 - val_loss: 0.3717 - val_accuracy: 0.8767\n",
            "Epoch 66/100\n",
            "32/32 [==============================] - 1s 37ms/step - loss: 0.1450 - accuracy: 0.9422 - val_loss: 0.3435 - val_accuracy: 0.8950\n",
            "Epoch 67/100\n",
            "32/32 [==============================] - 1s 38ms/step - loss: 0.1435 - accuracy: 0.9350 - val_loss: 0.4067 - val_accuracy: 0.8858\n",
            "Epoch 68/100\n",
            "32/32 [==============================] - 1s 37ms/step - loss: 0.1465 - accuracy: 0.9334 - val_loss: 0.4405 - val_accuracy: 0.8721\n",
            "Epoch 69/100\n",
            "32/32 [==============================] - 1s 38ms/step - loss: 0.1654 - accuracy: 0.9312 - val_loss: 0.3775 - val_accuracy: 0.9041\n",
            "Epoch 70/100\n",
            "32/32 [==============================] - 1s 38ms/step - loss: 0.1859 - accuracy: 0.9233 - val_loss: 0.3152 - val_accuracy: 0.8950\n",
            "Epoch 71/100\n",
            "32/32 [==============================] - 1s 38ms/step - loss: 0.1493 - accuracy: 0.9294 - val_loss: 0.3392 - val_accuracy: 0.8950\n",
            "Epoch 72/100\n",
            "32/32 [==============================] - 1s 37ms/step - loss: 0.1830 - accuracy: 0.9269 - val_loss: 0.3090 - val_accuracy: 0.9132\n",
            "Epoch 73/100\n",
            "32/32 [==============================] - 1s 38ms/step - loss: 0.1692 - accuracy: 0.9265 - val_loss: 0.4246 - val_accuracy: 0.8950\n",
            "Epoch 74/100\n",
            "32/32 [==============================] - 1s 37ms/step - loss: 0.1453 - accuracy: 0.9402 - val_loss: 0.4770 - val_accuracy: 0.8858\n",
            "Epoch 75/100\n",
            "32/32 [==============================] - 1s 37ms/step - loss: 0.2061 - accuracy: 0.9059 - val_loss: 0.3344 - val_accuracy: 0.8904\n",
            "Epoch 76/100\n",
            "32/32 [==============================] - 1s 38ms/step - loss: 0.1526 - accuracy: 0.9290 - val_loss: 0.3080 - val_accuracy: 0.8950\n",
            "Epoch 77/100\n",
            "32/32 [==============================] - 1s 37ms/step - loss: 0.1471 - accuracy: 0.9319 - val_loss: 0.4925 - val_accuracy: 0.9132\n",
            "Epoch 78/100\n",
            "32/32 [==============================] - 1s 35ms/step - loss: 0.1748 - accuracy: 0.9157 - val_loss: 0.3835 - val_accuracy: 0.8858\n",
            "Epoch 79/100\n",
            "32/32 [==============================] - 1s 36ms/step - loss: 0.1362 - accuracy: 0.9427 - val_loss: 0.4333 - val_accuracy: 0.8858\n",
            "Epoch 80/100\n",
            "32/32 [==============================] - 1s 36ms/step - loss: 0.1261 - accuracy: 0.9458 - val_loss: 0.3386 - val_accuracy: 0.8904\n",
            "Epoch 81/100\n",
            "32/32 [==============================] - 1s 37ms/step - loss: 0.1714 - accuracy: 0.9133 - val_loss: 0.5453 - val_accuracy: 0.9041\n",
            "Epoch 82/100\n",
            "32/32 [==============================] - 1s 38ms/step - loss: 0.1417 - accuracy: 0.9328 - val_loss: 0.3240 - val_accuracy: 0.8904\n",
            "Epoch 83/100\n",
            "32/32 [==============================] - 1s 37ms/step - loss: 0.1577 - accuracy: 0.9365 - val_loss: 0.3524 - val_accuracy: 0.8813\n",
            "Epoch 84/100\n",
            "32/32 [==============================] - 1s 37ms/step - loss: 0.1313 - accuracy: 0.9397 - val_loss: 0.4785 - val_accuracy: 0.8813\n",
            "Epoch 85/100\n",
            "32/32 [==============================] - 1s 38ms/step - loss: 0.1402 - accuracy: 0.9349 - val_loss: 0.5274 - val_accuracy: 0.8904\n",
            "Epoch 86/100\n",
            "32/32 [==============================] - 1s 38ms/step - loss: 0.1623 - accuracy: 0.9382 - val_loss: 0.5826 - val_accuracy: 0.8813\n",
            "Epoch 87/100\n",
            "32/32 [==============================] - 1s 37ms/step - loss: 0.1285 - accuracy: 0.9380 - val_loss: 0.5469 - val_accuracy: 0.8904\n",
            "Epoch 88/100\n",
            "32/32 [==============================] - 1s 37ms/step - loss: 0.1187 - accuracy: 0.9516 - val_loss: 0.6367 - val_accuracy: 0.8858\n",
            "Epoch 89/100\n",
            "32/32 [==============================] - 1s 37ms/step - loss: 0.1394 - accuracy: 0.9398 - val_loss: 0.4741 - val_accuracy: 0.8858\n",
            "Epoch 90/100\n",
            "32/32 [==============================] - 1s 37ms/step - loss: 0.1414 - accuracy: 0.9425 - val_loss: 0.7577 - val_accuracy: 0.8539\n",
            "Epoch 91/100\n",
            "32/32 [==============================] - 1s 37ms/step - loss: 0.1696 - accuracy: 0.9274 - val_loss: 0.5968 - val_accuracy: 0.8950\n",
            "Epoch 92/100\n",
            "32/32 [==============================] - 1s 37ms/step - loss: 0.1245 - accuracy: 0.9523 - val_loss: 0.5227 - val_accuracy: 0.8904\n",
            "Epoch 93/100\n",
            "32/32 [==============================] - 1s 37ms/step - loss: 0.1266 - accuracy: 0.9480 - val_loss: 0.6621 - val_accuracy: 0.8767\n",
            "Epoch 94/100\n",
            "32/32 [==============================] - 1s 37ms/step - loss: 0.1171 - accuracy: 0.9502 - val_loss: 0.5475 - val_accuracy: 0.8904\n",
            "Epoch 95/100\n",
            "32/32 [==============================] - 1s 37ms/step - loss: 0.1248 - accuracy: 0.9407 - val_loss: 0.5881 - val_accuracy: 0.8950\n",
            "Epoch 96/100\n",
            "32/32 [==============================] - 1s 37ms/step - loss: 0.1238 - accuracy: 0.9478 - val_loss: 0.6184 - val_accuracy: 0.8904\n",
            "Epoch 97/100\n",
            "32/32 [==============================] - 1s 37ms/step - loss: 0.1390 - accuracy: 0.9420 - val_loss: 0.3355 - val_accuracy: 0.8767\n",
            "Epoch 98/100\n",
            "32/32 [==============================] - 1s 38ms/step - loss: 0.1459 - accuracy: 0.9366 - val_loss: 0.6267 - val_accuracy: 0.9041\n",
            "Epoch 99/100\n",
            "32/32 [==============================] - 1s 42ms/step - loss: 0.1674 - accuracy: 0.9273 - val_loss: 0.5040 - val_accuracy: 0.8813\n",
            "Epoch 100/100\n",
            "32/32 [==============================] - 1s 37ms/step - loss: 0.1489 - accuracy: 0.9274 - val_loss: 0.5716 - val_accuracy: 0.8721\n"
          ],
          "name": "stdout"
        }
      ]
    },
    {
      "cell_type": "code",
      "metadata": {
        "colab": {
          "base_uri": "https://localhost:8080/",
          "height": 295
        },
        "id": "4InOvphxi80E",
        "outputId": "646952b4-bc19-424f-f0b0-ef8e0d03598f"
      },
      "source": [
        "plt.plot(hist_2.history['loss'])\n",
        "plt.plot(hist_2.history['val_loss'])\n",
        "plt.title('Model loss')\n",
        "plt.ylabel('Loss')\n",
        "plt.xlabel('Epoch')\n",
        "plt.legend(['Train', 'Val'], loc='upper right')\n",
        "plt.show()"
      ],
      "execution_count": 28,
      "outputs": [
        {
          "output_type": "display_data",
          "data": {
            "image/png": "[encoded data removed]",
            "text/plain": [
              "<Figure size 432x288 with 1 Axes>"
            ]
          },
          "metadata": {
            "tags": [],
            "needs_background": "light"
          }
        }
      ]
    },
    {
      "cell_type": "code",
      "metadata": {
        "colab": {
          "base_uri": "https://localhost:8080/",
          "height": 295
        },
        "id": "fjpZnzpGjHWZ",
        "outputId": "8083542d-3874-4d13-86de-d460ca35db43"
      },
      "source": [
        "plt.plot(hist_2.history['accuracy'])\n",
        "plt.plot(hist_2.history['val_accuracy'])\n",
        "plt.title('Model accuracy')\n",
        "plt.ylabel('Accuracy')\n",
        "plt.xlabel('Epoch')\n",
        "plt.legend(['Train', 'Val'], loc='lower right')\n",
        "plt.show()"
      ],
      "execution_count": 29,
      "outputs": [
        {
          "output_type": "display_data",
          "data": {
            "image/png": "[encoded data removed]",
            "text/plain": [
              "<Figure size 432x288 with 1 Axes>"
            ]
          },
          "metadata": {
            "tags": [],
            "needs_background": "light"
          }
        }
      ]
    },
    {
      "cell_type": "code",
      "metadata": {
        "colab": {
          "base_uri": "https://localhost:8080/"
        },
        "id": "ejS3WA0KjHtH",
        "outputId": "04a131c1-7bcc-4a1a-e56b-db728dd3ec40"
      },
      "source": [
        "from keras.layers import Dropout\n",
        "from keras import regularizers\n",
        "model_3 = Sequential([\n",
        "    Dense(1000, activation='relu', kernel_regularizer=regularizers.l2(0.01), input_shape=(10,)),\n",
        "    Dropout(0.3),\n",
        "    Dense(1000, activation='relu', kernel_regularizer=regularizers.l2(0.01)),\n",
        "    Dropout(0.3),\n",
        "    Dense(1000, activation='relu', kernel_regularizer=regularizers.l2(0.01)),\n",
        "    Dropout(0.3),\n",
        "    Dense(1000, activation='relu', kernel_regularizer=regularizers.l2(0.01)),\n",
        "    Dropout(0.3),\n",
        "    Dense(1, activation='sigmoid', kernel_regularizer=regularizers.l2(0.01)),\n",
        "])\n",
        "model_3.compile(optimizer='adam',\n",
        "              loss='binary_crossentropy',\n",
        "              metrics=['accuracy'])\n",
        "hist_3 = model_3.fit(X_train, Y_train,\n",
        "          batch_size=32, epochs=100,\n",
        "          validation_data=(X_val, Y_val))\n"
      ],
      "execution_count": 30,
      "outputs": [
        {
          "output_type": "stream",
          "text": [
            "Epoch 1/100\n",
            "32/32 [==============================] - 3s 54ms/step - loss: 21.1266 - accuracy: 0.5586 - val_loss: 3.9032 - val_accuracy: 0.8630\n",
            "Epoch 2/100\n",
            "32/32 [==============================] - 2s 47ms/step - loss: 2.4985 - accuracy: 0.8242 - val_loss: 0.6290 - val_accuracy: 0.8813\n",
            "Epoch 3/100\n",
            "32/32 [==============================] - 2s 50ms/step - loss: 0.6297 - accuracy: 0.8455 - val_loss: 0.4961 - val_accuracy: 0.8858\n",
            "Epoch 4/100\n",
            "32/32 [==============================] - 2s 49ms/step - loss: 0.5265 - accuracy: 0.8692 - val_loss: 0.4449 - val_accuracy: 0.8904\n",
            "Epoch 5/100\n",
            "32/32 [==============================] - 2s 48ms/step - loss: 0.4855 - accuracy: 0.8858 - val_loss: 0.4492 - val_accuracy: 0.8950\n",
            "Epoch 6/100\n",
            "32/32 [==============================] - 2s 48ms/step - loss: 0.4995 - accuracy: 0.8750 - val_loss: 0.4337 - val_accuracy: 0.8950\n",
            "Epoch 7/100\n",
            "32/32 [==============================] - 1s 46ms/step - loss: 0.4779 - accuracy: 0.8800 - val_loss: 0.4441 - val_accuracy: 0.8721\n",
            "Epoch 8/100\n",
            "32/32 [==============================] - 1s 46ms/step - loss: 0.4865 - accuracy: 0.8742 - val_loss: 0.4283 - val_accuracy: 0.9224\n",
            "Epoch 9/100\n",
            "32/32 [==============================] - 2s 47ms/step - loss: 0.4764 - accuracy: 0.8818 - val_loss: 0.4712 - val_accuracy: 0.8676\n",
            "Epoch 10/100\n",
            "32/32 [==============================] - 1s 46ms/step - loss: 0.5029 - accuracy: 0.8549 - val_loss: 0.4241 - val_accuracy: 0.9224\n",
            "Epoch 11/100\n",
            "32/32 [==============================] - 1s 47ms/step - loss: 0.4931 - accuracy: 0.8607 - val_loss: 0.4097 - val_accuracy: 0.9132\n",
            "Epoch 12/100\n",
            "32/32 [==============================] - 1s 46ms/step - loss: 0.4834 - accuracy: 0.8650 - val_loss: 0.4270 - val_accuracy: 0.9178\n",
            "Epoch 13/100\n",
            "32/32 [==============================] - 1s 46ms/step - loss: 0.4652 - accuracy: 0.8711 - val_loss: 0.4013 - val_accuracy: 0.9132\n",
            "Epoch 14/100\n",
            "32/32 [==============================] - 1s 45ms/step - loss: 0.4560 - accuracy: 0.8646 - val_loss: 0.4159 - val_accuracy: 0.9269\n",
            "Epoch 15/100\n",
            "32/32 [==============================] - 1s 45ms/step - loss: 0.4716 - accuracy: 0.8681 - val_loss: 0.4688 - val_accuracy: 0.8539\n",
            "Epoch 16/100\n",
            "32/32 [==============================] - 2s 47ms/step - loss: 0.4713 - accuracy: 0.8677 - val_loss: 0.4871 - val_accuracy: 0.8311\n",
            "Epoch 17/100\n",
            "32/32 [==============================] - 1s 46ms/step - loss: 0.5264 - accuracy: 0.8355 - val_loss: 0.3987 - val_accuracy: 0.9132\n",
            "Epoch 18/100\n",
            "32/32 [==============================] - 1s 46ms/step - loss: 0.4584 - accuracy: 0.8812 - val_loss: 0.4099 - val_accuracy: 0.8950\n",
            "Epoch 19/100\n",
            "32/32 [==============================] - 1s 46ms/step - loss: 0.4593 - accuracy: 0.8627 - val_loss: 0.4082 - val_accuracy: 0.8995\n",
            "Epoch 20/100\n",
            "32/32 [==============================] - 1s 47ms/step - loss: 0.4596 - accuracy: 0.8855 - val_loss: 0.4135 - val_accuracy: 0.9178\n",
            "Epoch 21/100\n",
            "32/32 [==============================] - 1s 45ms/step - loss: 0.4824 - accuracy: 0.8519 - val_loss: 0.4239 - val_accuracy: 0.8813\n",
            "Epoch 22/100\n",
            "32/32 [==============================] - 1s 46ms/step - loss: 0.4629 - accuracy: 0.8798 - val_loss: 0.3941 - val_accuracy: 0.9087\n",
            "Epoch 23/100\n",
            "32/32 [==============================] - 1s 46ms/step - loss: 0.4834 - accuracy: 0.8600 - val_loss: 0.4165 - val_accuracy: 0.8767\n",
            "Epoch 24/100\n",
            "32/32 [==============================] - 1s 46ms/step - loss: 0.4823 - accuracy: 0.8654 - val_loss: 0.4026 - val_accuracy: 0.9178\n",
            "Epoch 25/100\n",
            "32/32 [==============================] - 1s 46ms/step - loss: 0.4645 - accuracy: 0.8683 - val_loss: 0.4142 - val_accuracy: 0.9132\n",
            "Epoch 26/100\n",
            "32/32 [==============================] - 1s 46ms/step - loss: 0.4589 - accuracy: 0.8772 - val_loss: 0.4009 - val_accuracy: 0.9269\n",
            "Epoch 27/100\n",
            "32/32 [==============================] - 1s 46ms/step - loss: 0.4835 - accuracy: 0.8540 - val_loss: 0.4063 - val_accuracy: 0.8950\n",
            "Epoch 28/100\n",
            "32/32 [==============================] - 1s 46ms/step - loss: 0.4599 - accuracy: 0.8787 - val_loss: 0.4062 - val_accuracy: 0.8904\n",
            "Epoch 29/100\n",
            "32/32 [==============================] - 1s 47ms/step - loss: 0.4681 - accuracy: 0.8760 - val_loss: 0.4345 - val_accuracy: 0.8858\n",
            "Epoch 30/100\n",
            "32/32 [==============================] - 2s 51ms/step - loss: 0.4539 - accuracy: 0.8640 - val_loss: 0.4032 - val_accuracy: 0.8950\n",
            "Epoch 31/100\n",
            "32/32 [==============================] - 1s 46ms/step - loss: 0.4806 - accuracy: 0.8639 - val_loss: 0.3951 - val_accuracy: 0.9269\n",
            "Epoch 32/100\n",
            "32/32 [==============================] - 1s 46ms/step - loss: 0.4543 - accuracy: 0.8777 - val_loss: 0.4055 - val_accuracy: 0.9178\n",
            "Epoch 33/100\n",
            "32/32 [==============================] - 1s 46ms/step - loss: 0.4738 - accuracy: 0.8647 - val_loss: 0.3932 - val_accuracy: 0.9178\n",
            "Epoch 34/100\n",
            "32/32 [==============================] - 1s 45ms/step - loss: 0.4603 - accuracy: 0.8677 - val_loss: 0.3849 - val_accuracy: 0.9132\n",
            "Epoch 35/100\n",
            "32/32 [==============================] - 2s 47ms/step - loss: 0.4353 - accuracy: 0.8850 - val_loss: 0.4020 - val_accuracy: 0.9269\n",
            "Epoch 36/100\n",
            "32/32 [==============================] - 1s 46ms/step - loss: 0.4284 - accuracy: 0.8769 - val_loss: 0.4169 - val_accuracy: 0.9178\n",
            "Epoch 37/100\n",
            "32/32 [==============================] - 1s 46ms/step - loss: 0.4663 - accuracy: 0.8654 - val_loss: 0.4198 - val_accuracy: 0.8995\n",
            "Epoch 38/100\n",
            "32/32 [==============================] - 1s 45ms/step - loss: 0.4897 - accuracy: 0.8561 - val_loss: 0.3866 - val_accuracy: 0.9087\n",
            "Epoch 39/100\n",
            "32/32 [==============================] - 2s 47ms/step - loss: 0.4481 - accuracy: 0.8930 - val_loss: 0.3853 - val_accuracy: 0.9224\n",
            "Epoch 40/100\n",
            "32/32 [==============================] - 1s 46ms/step - loss: 0.4528 - accuracy: 0.8852 - val_loss: 0.4203 - val_accuracy: 0.8767\n",
            "Epoch 41/100\n",
            "32/32 [==============================] - 1s 46ms/step - loss: 0.4651 - accuracy: 0.8650 - val_loss: 0.3967 - val_accuracy: 0.9178\n",
            "Epoch 42/100\n",
            "32/32 [==============================] - 1s 47ms/step - loss: 0.4490 - accuracy: 0.8817 - val_loss: 0.3900 - val_accuracy: 0.9224\n",
            "Epoch 43/100\n",
            "32/32 [==============================] - 1s 46ms/step - loss: 0.4510 - accuracy: 0.8771 - val_loss: 0.3860 - val_accuracy: 0.9087\n",
            "Epoch 44/100\n",
            "32/32 [==============================] - 1s 47ms/step - loss: 0.4311 - accuracy: 0.8900 - val_loss: 0.4337 - val_accuracy: 0.8858\n",
            "Epoch 45/100\n",
            "32/32 [==============================] - 1s 47ms/step - loss: 0.4585 - accuracy: 0.8613 - val_loss: 0.3880 - val_accuracy: 0.9132\n",
            "Epoch 46/100\n",
            "32/32 [==============================] - 1s 46ms/step - loss: 0.4631 - accuracy: 0.8581 - val_loss: 0.3863 - val_accuracy: 0.9269\n",
            "Epoch 47/100\n",
            "32/32 [==============================] - 1s 46ms/step - loss: 0.4432 - accuracy: 0.8733 - val_loss: 0.4019 - val_accuracy: 0.9132\n",
            "Epoch 48/100\n",
            "32/32 [==============================] - 1s 45ms/step - loss: 0.4418 - accuracy: 0.8794 - val_loss: 0.3932 - val_accuracy: 0.9178\n",
            "Epoch 49/100\n",
            "32/32 [==============================] - 2s 47ms/step - loss: 0.4521 - accuracy: 0.8758 - val_loss: 0.4047 - val_accuracy: 0.8904\n",
            "Epoch 50/100\n",
            "32/32 [==============================] - 1s 46ms/step - loss: 0.4740 - accuracy: 0.8647 - val_loss: 0.4029 - val_accuracy: 0.8950\n",
            "Epoch 51/100\n",
            "32/32 [==============================] - 1s 46ms/step - loss: 0.4509 - accuracy: 0.8795 - val_loss: 0.3970 - val_accuracy: 0.9087\n",
            "Epoch 52/100\n",
            "32/32 [==============================] - 1s 46ms/step - loss: 0.4578 - accuracy: 0.8677 - val_loss: 0.4475 - val_accuracy: 0.8721\n",
            "Epoch 53/100\n",
            "32/32 [==============================] - 2s 47ms/step - loss: 0.4800 - accuracy: 0.8542 - val_loss: 0.3973 - val_accuracy: 0.9224\n",
            "Epoch 54/100\n",
            "32/32 [==============================] - 1s 47ms/step - loss: 0.4479 - accuracy: 0.8714 - val_loss: 0.4067 - val_accuracy: 0.9132\n",
            "Epoch 55/100\n",
            "32/32 [==============================] - 2s 48ms/step - loss: 0.4504 - accuracy: 0.8910 - val_loss: 0.4007 - val_accuracy: 0.8858\n",
            "Epoch 56/100\n",
            "32/32 [==============================] - 1s 46ms/step - loss: 0.4718 - accuracy: 0.8662 - val_loss: 0.3893 - val_accuracy: 0.9041\n",
            "Epoch 57/100\n",
            "32/32 [==============================] - 1s 46ms/step - loss: 0.4552 - accuracy: 0.8852 - val_loss: 0.4478 - val_accuracy: 0.8767\n",
            "Epoch 58/100\n",
            "32/32 [==============================] - 1s 46ms/step - loss: 0.4635 - accuracy: 0.8676 - val_loss: 0.4013 - val_accuracy: 0.8858\n",
            "Epoch 59/100\n",
            "32/32 [==============================] - 1s 46ms/step - loss: 0.4460 - accuracy: 0.8787 - val_loss: 0.3945 - val_accuracy: 0.8950\n",
            "Epoch 60/100\n",
            "32/32 [==============================] - 2s 47ms/step - loss: 0.4613 - accuracy: 0.8709 - val_loss: 0.4034 - val_accuracy: 0.9178\n",
            "Epoch 61/100\n",
            "32/32 [==============================] - 1s 46ms/step - loss: 0.4495 - accuracy: 0.8690 - val_loss: 0.4035 - val_accuracy: 0.9178\n",
            "Epoch 62/100\n",
            "32/32 [==============================] - 2s 47ms/step - loss: 0.4612 - accuracy: 0.8594 - val_loss: 0.3845 - val_accuracy: 0.9132\n",
            "Epoch 63/100\n",
            "32/32 [==============================] - 2s 47ms/step - loss: 0.4621 - accuracy: 0.8731 - val_loss: 0.4144 - val_accuracy: 0.9132\n",
            "Epoch 64/100\n",
            "32/32 [==============================] - 2s 48ms/step - loss: 0.4615 - accuracy: 0.8645 - val_loss: 0.3953 - val_accuracy: 0.9224\n",
            "Epoch 65/100\n",
            "32/32 [==============================] - 1s 46ms/step - loss: 0.4484 - accuracy: 0.8640 - val_loss: 0.4158 - val_accuracy: 0.9087\n",
            "Epoch 66/100\n",
            "32/32 [==============================] - 1s 46ms/step - loss: 0.4233 - accuracy: 0.8958 - val_loss: 0.3976 - val_accuracy: 0.9269\n",
            "Epoch 67/100\n",
            "32/32 [==============================] - 2s 47ms/step - loss: 0.4697 - accuracy: 0.8638 - val_loss: 0.3865 - val_accuracy: 0.9087\n",
            "Epoch 68/100\n",
            "32/32 [==============================] - 1s 46ms/step - loss: 0.4412 - accuracy: 0.8849 - val_loss: 0.3878 - val_accuracy: 0.9315\n",
            "Epoch 69/100\n",
            "32/32 [==============================] - 2s 47ms/step - loss: 0.4300 - accuracy: 0.8668 - val_loss: 0.3858 - val_accuracy: 0.9087\n",
            "Epoch 70/100\n",
            "32/32 [==============================] - 2s 47ms/step - loss: 0.4765 - accuracy: 0.8572 - val_loss: 0.4337 - val_accuracy: 0.8721\n",
            "Epoch 71/100\n",
            "32/32 [==============================] - 2s 48ms/step - loss: 0.4391 - accuracy: 0.8837 - val_loss: 0.3983 - val_accuracy: 0.8904\n",
            "Epoch 72/100\n",
            "32/32 [==============================] - 2s 47ms/step - loss: 0.4468 - accuracy: 0.8755 - val_loss: 0.3895 - val_accuracy: 0.8995\n",
            "Epoch 73/100\n",
            "32/32 [==============================] - 1s 46ms/step - loss: 0.4385 - accuracy: 0.8718 - val_loss: 0.3876 - val_accuracy: 0.9269\n",
            "Epoch 74/100\n",
            "32/32 [==============================] - 1s 47ms/step - loss: 0.4414 - accuracy: 0.8782 - val_loss: 0.3861 - val_accuracy: 0.9224\n",
            "Epoch 75/100\n",
            "32/32 [==============================] - 1s 47ms/step - loss: 0.4726 - accuracy: 0.8580 - val_loss: 0.3836 - val_accuracy: 0.9224\n",
            "Epoch 76/100\n",
            "32/32 [==============================] - 2s 48ms/step - loss: 0.4293 - accuracy: 0.8805 - val_loss: 0.3884 - val_accuracy: 0.9178\n",
            "Epoch 77/100\n",
            "32/32 [==============================] - 2s 47ms/step - loss: 0.4470 - accuracy: 0.8733 - val_loss: 0.3957 - val_accuracy: 0.9224\n",
            "Epoch 78/100\n",
            "32/32 [==============================] - 2s 47ms/step - loss: 0.4647 - accuracy: 0.8653 - val_loss: 0.3892 - val_accuracy: 0.8950\n",
            "Epoch 79/100\n",
            "32/32 [==============================] - 2s 47ms/step - loss: 0.4730 - accuracy: 0.8593 - val_loss: 0.3831 - val_accuracy: 0.9087\n",
            "Epoch 80/100\n",
            "32/32 [==============================] - 2s 47ms/step - loss: 0.4488 - accuracy: 0.8747 - val_loss: 0.3976 - val_accuracy: 0.8904\n",
            "Epoch 81/100\n",
            "32/32 [==============================] - 1s 46ms/step - loss: 0.4576 - accuracy: 0.8571 - val_loss: 0.3932 - val_accuracy: 0.8950\n",
            "Epoch 82/100\n",
            "32/32 [==============================] - 1s 47ms/step - loss: 0.4725 - accuracy: 0.8717 - val_loss: 0.3874 - val_accuracy: 0.9269\n",
            "Epoch 83/100\n",
            "32/32 [==============================] - 1s 46ms/step - loss: 0.4393 - accuracy: 0.8849 - val_loss: 0.4010 - val_accuracy: 0.8813\n",
            "Epoch 84/100\n",
            "32/32 [==============================] - 2s 52ms/step - loss: 0.4479 - accuracy: 0.8764 - val_loss: 0.3800 - val_accuracy: 0.9224\n",
            "Epoch 85/100\n",
            "32/32 [==============================] - 1s 47ms/step - loss: 0.4642 - accuracy: 0.8778 - val_loss: 0.4042 - val_accuracy: 0.8858\n",
            "Epoch 86/100\n",
            "32/32 [==============================] - 1s 47ms/step - loss: 0.4859 - accuracy: 0.8516 - val_loss: 0.3909 - val_accuracy: 0.9224\n",
            "Epoch 87/100\n",
            "32/32 [==============================] - 2s 48ms/step - loss: 0.4454 - accuracy: 0.8798 - val_loss: 0.3847 - val_accuracy: 0.9178\n",
            "Epoch 88/100\n",
            "32/32 [==============================] - 1s 47ms/step - loss: 0.4481 - accuracy: 0.8869 - val_loss: 0.3854 - val_accuracy: 0.9087\n",
            "Epoch 89/100\n",
            "32/32 [==============================] - 2s 48ms/step - loss: 0.4475 - accuracy: 0.8756 - val_loss: 0.3818 - val_accuracy: 0.9132\n",
            "Epoch 90/100\n",
            "32/32 [==============================] - 2s 48ms/step - loss: 0.4477 - accuracy: 0.8775 - val_loss: 0.3984 - val_accuracy: 0.9178\n",
            "Epoch 91/100\n",
            "32/32 [==============================] - 2s 47ms/step - loss: 0.4483 - accuracy: 0.8712 - val_loss: 0.4002 - val_accuracy: 0.8858\n",
            "Epoch 92/100\n",
            "32/32 [==============================] - 2s 47ms/step - loss: 0.4617 - accuracy: 0.8729 - val_loss: 0.4307 - val_accuracy: 0.8767\n",
            "Epoch 93/100\n",
            "32/32 [==============================] - 2s 48ms/step - loss: 0.4494 - accuracy: 0.8866 - val_loss: 0.3858 - val_accuracy: 0.9132\n",
            "Epoch 94/100\n",
            "32/32 [==============================] - 2s 48ms/step - loss: 0.4673 - accuracy: 0.8718 - val_loss: 0.4390 - val_accuracy: 0.8767\n",
            "Epoch 95/100\n",
            "32/32 [==============================] - 2s 48ms/step - loss: 0.4655 - accuracy: 0.8610 - val_loss: 0.3838 - val_accuracy: 0.9178\n",
            "Epoch 96/100\n",
            "32/32 [==============================] - 2s 47ms/step - loss: 0.4663 - accuracy: 0.8677 - val_loss: 0.3787 - val_accuracy: 0.9269\n",
            "Epoch 97/100\n",
            "32/32 [==============================] - 2s 48ms/step - loss: 0.4232 - accuracy: 0.8725 - val_loss: 0.3827 - val_accuracy: 0.9087\n",
            "Epoch 98/100\n",
            "32/32 [==============================] - 2s 49ms/step - loss: 0.4190 - accuracy: 0.8870 - val_loss: 0.4166 - val_accuracy: 0.8813\n",
            "Epoch 99/100\n",
            "32/32 [==============================] - 2s 47ms/step - loss: 0.4536 - accuracy: 0.8952 - val_loss: 0.3857 - val_accuracy: 0.9087\n",
            "Epoch 100/100\n",
            "32/32 [==============================] - 1s 47ms/step - loss: 0.4398 - accuracy: 0.8882 - val_loss: 0.4452 - val_accuracy: 0.8630\n"
          ],
          "name": "stdout"
        }
      ]
    },
    {
      "cell_type": "code",
      "metadata": {
        "colab": {
          "base_uri": "https://localhost:8080/",
          "height": 295
        },
        "id": "Cay8-NMgjV8E",
        "outputId": "a71cf4fd-3ef9-4986-dc5a-0f2d17935de5"
      },
      "source": [
        "plt.plot(hist_3.history['loss'])\n",
        "plt.plot(hist_3.history['val_loss'])\n",
        "plt.title('Model loss')\n",
        "plt.ylabel('Loss')\n",
        "plt.xlabel('Epoch')\n",
        "plt.legend(['Train', 'Val'], loc='upper right')\n",
        "plt.ylim(top=1.2, bottom=0)\n",
        "plt.show()"
      ],
      "execution_count": 31,
      "outputs": [
        {
          "output_type": "display_data",
          "data": {
            "image/png": "[encoded data removed]",
            "text/plain": [
              "<Figure size 432x288 with 1 Axes>"
            ]
          },
          "metadata": {
            "tags": [],
            "needs_background": "light"
          }
        }
      ]
    },
    {
      "cell_type": "code",
      "metadata": {
        "colab": {
          "base_uri": "https://localhost:8080/",
          "height": 295
        },
        "id": "TasN4DSvjYNF",
        "outputId": "a3091c77-0fd5-460d-eab2-76a6baea9195"
      },
      "source": [
        "plt.plot(hist_3.history['accuracy'])\n",
        "plt.plot(hist_3.history['val_accuracy'])\n",
        "plt.title('Model accuracy')\n",
        "plt.ylabel('Accuracy')\n",
        "plt.xlabel('Epoch')\n",
        "plt.legend(['Train', 'Val'], loc='lower right')\n",
        "plt.show()"
      ],
      "execution_count": 32,
      "outputs": [
        {
          "output_type": "display_data",
          "data": {
            "image/png": "[encoded data removed]",
            "text/plain": [
              "<Figure size 432x288 with 1 Axes>"
            ]
          },
          "metadata": {
            "tags": [],
            "needs_background": "light"
          }
        }
      ]
    }
  ]
}