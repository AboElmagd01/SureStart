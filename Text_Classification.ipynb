{
  "nbformat": 4,
  "nbformat_minor": 0,
  "metadata": {
    "colab": {
      "name": "Text Classification.ipynb",
      "provenance": []
    },
    "kernelspec": {
      "name": "python3",
      "display_name": "Python 3"
    },
    "language_info": {
      "name": "python"
    }
  },
  "cells": [
    {
      "cell_type": "code",
      "metadata": {
        "colab": {
          "base_uri": "https://localhost:8080/"
        },
        "id": "9E3aOjYHv2uA",
        "outputId": "5378d8a4-3e48-40a6-8517-997ff35a4033"
      },
      "source": [
        "# predictor by using Facebook's fastText\n",
        "\n",
        "!pip install fasttext\n",
        "!pip install wget\n",
        "\n",
        "import wget\n",
        "import fasttext\n",
        "\n",
        "\n",
        "class PythonPredictor:\n",
        "    def __init__(self):\n",
        "        wget.download(\n",
        "            \"https://dl.fbaipublicfiles.com/fasttext/supervised-models/lid.176.bin\", \"model\"\n",
        "        )\n",
        "\n",
        "        self.model = fasttext.load_model(\"model\")\n",
        "\n",
        "    def predict(self, payload):\n",
        "        prediction = self.model.predict(payload[0])\n",
        "        language = prediction[0][0][-2:]\n",
        "        return language"
      ],
      "execution_count": 2,
      "outputs": [
        {
          "output_type": "stream",
          "text": [
            "Requirement already satisfied: fasttext in /usr/local/lib/python3.7/dist-packages (0.9.2)\n",
            "Requirement already satisfied: setuptools>=0.7.0 in /usr/local/lib/python3.7/dist-packages (from fasttext) (54.1.2)\n",
            "Requirement already satisfied: pybind11>=2.2 in /usr/local/lib/python3.7/dist-packages (from fasttext) (2.6.2)\n",
            "Requirement already satisfied: numpy in /usr/local/lib/python3.7/dist-packages (from fasttext) (1.19.5)\n",
            "Requirement already satisfied: wget in /usr/local/lib/python3.7/dist-packages (3.2)\n"
          ],
          "name": "stdout"
        }
      ]
    },
    {
      "cell_type": "code",
      "metadata": {
        "id": "ur7LddrkwGHu"
      },
      "source": [
        "#Deploying\n",
        "# we can use cortex to deploy the API"
      ],
      "execution_count": null,
      "outputs": []
    }
  ]
}